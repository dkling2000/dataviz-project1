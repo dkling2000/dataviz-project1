{
 "cells": [
  {
   "cell_type": "code",
   "execution_count": null,
   "metadata": {},
   "outputs": [],
   "source": [
    "# This notebook will use the csv file we found along with the Yelp Fusion API to create a new dataframe\n",
    "# containing all of the relevent data that we need for our analysis."
   ]
  },
  {
   "cell_type": "code",
   "execution_count": null,
   "metadata": {},
   "outputs": [],
   "source": [
    "# Notes about API use: 5000 daily limit, API key stored in config, 50 cities per request"
   ]
  },
  {
   "cell_type": "code",
   "execution_count": 1,
   "metadata": {},
   "outputs": [],
   "source": [
    "# Import dependencies\n",
    "import os, requests, json\n",
    "import pandas as pd\n",
    "from config import api_key"
   ]
  },
  {
   "cell_type": "code",
   "execution_count": 2,
   "metadata": {},
   "outputs": [
    {
     "data": {
      "text/html": [
       "<div>\n",
       "<style scoped>\n",
       "    .dataframe tbody tr th:only-of-type {\n",
       "        vertical-align: middle;\n",
       "    }\n",
       "\n",
       "    .dataframe tbody tr th {\n",
       "        vertical-align: top;\n",
       "    }\n",
       "\n",
       "    .dataframe thead th {\n",
       "        text-align: right;\n",
       "    }\n",
       "</style>\n",
       "<table border=\"1\" class=\"dataframe\">\n",
       "  <thead>\n",
       "    <tr style=\"text-align: right;\">\n",
       "      <th></th>\n",
       "      <th>Overall Rank (1 = Best)</th>\n",
       "      <th>City, State</th>\n",
       "      <th>Total Score</th>\n",
       "      <th>Emotional and Physical Well-Being Rank</th>\n",
       "      <th>Income and Employment Rank</th>\n",
       "      <th>Community and Environment Rank</th>\n",
       "    </tr>\n",
       "  </thead>\n",
       "  <tbody>\n",
       "    <tr>\n",
       "      <th>0</th>\n",
       "      <td>1</td>\n",
       "      <td>Plano, TX</td>\n",
       "      <td>72.30</td>\n",
       "      <td>7</td>\n",
       "      <td>6</td>\n",
       "      <td>8</td>\n",
       "    </tr>\n",
       "    <tr>\n",
       "      <th>1</th>\n",
       "      <td>2</td>\n",
       "      <td>Irvine, CA</td>\n",
       "      <td>71.86</td>\n",
       "      <td>14</td>\n",
       "      <td>11</td>\n",
       "      <td>5</td>\n",
       "    </tr>\n",
       "    <tr>\n",
       "      <th>2</th>\n",
       "      <td>3</td>\n",
       "      <td>Madison, WI</td>\n",
       "      <td>71.81</td>\n",
       "      <td>3</td>\n",
       "      <td>14</td>\n",
       "      <td>7</td>\n",
       "    </tr>\n",
       "    <tr>\n",
       "      <th>3</th>\n",
       "      <td>4</td>\n",
       "      <td>Fremont, CA</td>\n",
       "      <td>71.17</td>\n",
       "      <td>10</td>\n",
       "      <td>37</td>\n",
       "      <td>1</td>\n",
       "    </tr>\n",
       "    <tr>\n",
       "      <th>4</th>\n",
       "      <td>5</td>\n",
       "      <td>Huntington Beach, CA</td>\n",
       "      <td>69.74</td>\n",
       "      <td>6</td>\n",
       "      <td>46</td>\n",
       "      <td>28</td>\n",
       "    </tr>\n",
       "  </tbody>\n",
       "</table>\n",
       "</div>"
      ],
      "text/plain": [
       "   Overall Rank (1 = Best)           City, State  Total Score  \\\n",
       "0                        1             Plano, TX        72.30   \n",
       "1                        2            Irvine, CA        71.86   \n",
       "2                        3           Madison, WI        71.81   \n",
       "3                        4           Fremont, CA        71.17   \n",
       "4                        5  Huntington Beach, CA        69.74   \n",
       "\n",
       "   Emotional and Physical Well-Being Rank  Income and Employment Rank  \\\n",
       "0                                       7                           6   \n",
       "1                                      14                          11   \n",
       "2                                       3                          14   \n",
       "3                                      10                          37   \n",
       "4                                       6                          46   \n",
       "\n",
       "   Community and Environment Rank  \n",
       "0                               8  \n",
       "1                               5  \n",
       "2                               7  \n",
       "3                               1  \n",
       "4                              28  "
      ]
     },
     "execution_count": 2,
     "metadata": {},
     "output_type": "execute_result"
    }
   ],
   "source": [
    "# Import city and state data\n",
    "filepath = os.path.join('happiestcities.csv')\n",
    "cities_df = pd.read_csv(filepath)\n",
    "cities_df.head()"
   ]
  },
  {
   "cell_type": "code",
   "execution_count": 5,
   "metadata": {
    "scrolled": true
   },
   "outputs": [],
   "source": [
    "# Header for accessing API\n",
    "header = {'Authorization':f'Bearer {api_key}'}\n",
    "\n",
    "# Set up base url, making sure to pull only restaurants in a 2 mile radius\n",
    "allurl = [f'https://api.yelp.com/v3/businesses/search?limit=50&radius=3320&term=restaurants&', f'https://api.yelp.com/v3/businesses/search?limit=50&radius=3320&term=bars&']\n",
    "\n",
    "# Quick list for save file names\n",
    "savename = ['restaurantdata.csv', 'barsdata.csv']\n",
    "\n",
    "# Intialize counter for save names\n",
    "counter = 1"
   ]
  },
  {
   "cell_type": "code",
   "execution_count": 6,
   "metadata": {
    "scrolled": true
   },
   "outputs": [
    {
     "ename": "SyntaxError",
     "evalue": "invalid syntax (<ipython-input-6-28f83263f508>, line 37)",
     "output_type": "error",
     "traceback": [
      "\u001b[1;36m  File \u001b[1;32m\"<ipython-input-6-28f83263f508>\"\u001b[1;36m, line \u001b[1;32m37\u001b[0m\n\u001b[1;33m    if data[f'Category {j}'] exists\u001b[0m\n\u001b[1;37m                                  ^\u001b[0m\n\u001b[1;31mSyntaxError\u001b[0m\u001b[1;31m:\u001b[0m invalid syntax\n"
     ]
    }
   ],
   "source": [
    "# Loop through the restaurant and bars urls to get two datasets\n",
    "for x in range(len(allurl)):\n",
    "    # Create blank list to store data\n",
    "    yelpdata = []\n",
    "    \n",
    "    # Loop through happy cities calling for data from Yelp\n",
    "    for place in cities_df['City, State']:\n",
    "        \n",
    "        # Set up URL for calls\n",
    "        url = allurl[x] + f'location={place}'\n",
    "\n",
    "        # Make request and store results\n",
    "        response = requests.get(url, headers = header).json()\n",
    "        print(place)\n",
    "        print(len(response['businesses']))\n",
    "        print(response['total'])\n",
    "\n",
    "        # Loop through business in response\n",
    "        for i in range(len(response['businesses'])):\n",
    "\n",
    "            # Handle KeyErrors by skipping businesses\n",
    "            try:\n",
    "                # Put relevant data into a dict\n",
    "                data = {\n",
    "                    'Latitude':response['businesses'][i]['coordinates']['latitude'],\n",
    "                    'Longitude':response['businesses'][i]['coordinates']['longitude'],\n",
    "                    'Name':response['businesses'][i]['name'],\n",
    "                    'Price':response['businesses'][i]['price'],\n",
    "                    'Rating':response['businesses'][i]['rating'],\n",
    "                    'Review Count':response['businesses'][i]['review_count'],\n",
    "                    'Out of Business':response['businesses'][i]['is_closed'],\n",
    "                    'Location':place\n",
    "                }\n",
    "\n",
    "                # Add category data to dict\n",
    "                for j in range(len(response['businesses'][i]['categories'])):\n",
    "                    data[f'Category {j}'] = response['businesses'][i]['categories'][j]['title']\n",
    "\n",
    "                # Add data to list\n",
    "                yelpdata.append(data)\n",
    "            \n",
    "            except KeyError:\n",
    "                print('KeyError: skipping')\n",
    "                \n",
    "    # Convert the pulled data to a pandas dataframe\n",
    "    yelp_df = pd.DataFrame(yelpdata)\n",
    "\n",
    "    # Add in the happiness score from the original dataframe\n",
    "    yelp_df['Happiness Score'] = cities_df['Total Score']\n",
    "    \n",
    "    # Create output folder and save copy of dataframe as a csv\n",
    "    create = os.path.join('Output')\n",
    "    if not os.path.exists(create):    \n",
    "        os.makedirs(create)\n",
    "    outputpath = os.path.join('Output',savefile[x])\n",
    "    yelp_df.to_csv(outputpath)\n",
    "    \n",
    "    # Increment counter to save under a different name next iteration\n",
    "    counter += 1\n",
    "    \n",
    "    # Delete the populated dataframe to ensure that you are starting fresh next iteration\n",
    "    del yelp_df"
   ]
  },
  {
   "cell_type": "code",
   "execution_count": null,
   "metadata": {},
   "outputs": [],
   "source": []
  }
 ],
 "metadata": {
  "kernelspec": {
   "display_name": "Python (PythonData)",
   "language": "python",
   "name": "pythondata"
  },
  "language_info": {
   "codemirror_mode": {
    "name": "ipython",
    "version": 3
   },
   "file_extension": ".py",
   "mimetype": "text/x-python",
   "name": "python",
   "nbconvert_exporter": "python",
   "pygments_lexer": "ipython3",
   "version": "3.7.1"
  }
 },
 "nbformat": 4,
 "nbformat_minor": 2
}
