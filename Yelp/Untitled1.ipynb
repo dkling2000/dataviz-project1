{
 "cells": [
  {
   "cell_type": "code",
   "execution_count": null,
   "metadata": {},
   "outputs": [],
   "source": []
  },
  {
   "cell_type": "code",
   "execution_count": null,
   "metadata": {},
   "outputs": [],
   "source": [
    "bar_data = []\n",
    "\n",
    "for index, row in happy_cities.iterrows():\n",
    "   city = row[\"City\"]\n",
    "\n",
    "   #categories = \"cannabiscollective, cannabisdispensaries\"\n",
    "   categories = \"bars\"\n",
    "   header = {'Authorization':f'Bearer {api_key}'}\n",
    "   radius = '3220'\n",
    "\n",
    "   query_url = f'https://api.yelp.com/v3/businesses/search?limit=50&location={city}&categories={categories}&radius={radius}'\n",
    "   bar_response = requests.get(query_url, headers = header)\n",
    "   bar_json = bar_response.json()\n",
    "\n",
    "   for i in range(len(bar_json['businesses'])):\n",
    "           try:\n",
    "\n",
    "               data = {\n",
    "\n",
    "                  'Name':response['businesses'][i]['name'],\n",
    "                  'Price':response['businesses'][i]['price'],\n",
    "                  'Rating':response['businesses'][i]['rating'],\n",
    "                  'Review Count':response['businesses'][i]['review_count'],\n",
    "                  'Out of Business':response['businesses'][i]['is_closed'],\n",
    "                  'Location':response['businesses'][i]['location']['city']\n",
    "\n",
    "                           }\n",
    "\n",
    "               # Add category data to dict\n",
    "              # for j in range(len(response['businesses'][i]['categories'])):\n",
    "               #    data[f'Category {j}'] = response['businesses'][i]['categories'][j]['title']\n",
    "\n",
    "             # Add data to list\n",
    "               bar_data.append(data)\n",
    "           except KeyError:\n",
    "               print('KeyError: skipping')"
   ]
  }
 ],
 "metadata": {
  "kernelspec": {
   "display_name": "Python (PythonData)",
   "language": "python",
   "name": "pythondata"
  },
  "language_info": {
   "codemirror_mode": {
    "name": "ipython",
    "version": 3
   },
   "file_extension": ".py",
   "mimetype": "text/x-python",
   "name": "python",
   "nbconvert_exporter": "python",
   "pygments_lexer": "ipython3",
   "version": "3.7.1"
  }
 },
 "nbformat": 4,
 "nbformat_minor": 2
}
