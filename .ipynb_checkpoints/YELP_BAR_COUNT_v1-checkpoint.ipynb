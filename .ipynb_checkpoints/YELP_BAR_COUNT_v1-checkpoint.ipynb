{
 "cells": [
  {
   "cell_type": "code",
   "execution_count": 2,
   "metadata": {},
   "outputs": [],
   "source": [
    "#Sample usage of the program:\n",
    "#`python sample.py --term=\"bars\" --location=\"San Francisco, CA\"`\n",
    "from config import api_key\n",
    "import json\n",
    "import pprint\n",
    "import requests\n",
    "import sys\n",
    "import pandas as pd\n",
    "\n",
    "#load CSV File\n",
    "file_to_load = \"2018happycityrating.csv\"\n",
    "\n",
    "# Read file\n",
    "happy_cities = pd.read_csv(file_to_load)\n"
   ]
  },
  {
   "cell_type": "code",
   "execution_count": 3,
   "metadata": {},
   "outputs": [
    {
     "data": {
      "text/html": [
       "<div>\n",
       "<style scoped>\n",
       "    .dataframe tbody tr th:only-of-type {\n",
       "        vertical-align: middle;\n",
       "    }\n",
       "\n",
       "    .dataframe tbody tr th {\n",
       "        vertical-align: top;\n",
       "    }\n",
       "\n",
       "    .dataframe thead th {\n",
       "        text-align: right;\n",
       "    }\n",
       "</style>\n",
       "<table border=\"1\" class=\"dataframe\">\n",
       "  <thead>\n",
       "    <tr style=\"text-align: right;\">\n",
       "      <th></th>\n",
       "      <th>Overall Rank</th>\n",
       "      <th>City</th>\n",
       "      <th>State</th>\n",
       "      <th>Total Score</th>\n",
       "      <th>Emotional &amp; Physical Well-Being</th>\n",
       "      <th>Income &amp; Employment</th>\n",
       "      <th>Community &amp; Environment</th>\n",
       "    </tr>\n",
       "  </thead>\n",
       "  <tbody>\n",
       "    <tr>\n",
       "      <th>0</th>\n",
       "      <td>1</td>\n",
       "      <td>Plano</td>\n",
       "      <td>TX</td>\n",
       "      <td>72.30</td>\n",
       "      <td>7</td>\n",
       "      <td>6</td>\n",
       "      <td>8</td>\n",
       "    </tr>\n",
       "    <tr>\n",
       "      <th>1</th>\n",
       "      <td>2</td>\n",
       "      <td>Irvine</td>\n",
       "      <td>CA</td>\n",
       "      <td>71.86</td>\n",
       "      <td>14</td>\n",
       "      <td>11</td>\n",
       "      <td>5</td>\n",
       "    </tr>\n",
       "    <tr>\n",
       "      <th>2</th>\n",
       "      <td>3</td>\n",
       "      <td>Madison</td>\n",
       "      <td>WI</td>\n",
       "      <td>71.81</td>\n",
       "      <td>3</td>\n",
       "      <td>14</td>\n",
       "      <td>7</td>\n",
       "    </tr>\n",
       "    <tr>\n",
       "      <th>3</th>\n",
       "      <td>4</td>\n",
       "      <td>Fremont</td>\n",
       "      <td>CA</td>\n",
       "      <td>71.17</td>\n",
       "      <td>10</td>\n",
       "      <td>37</td>\n",
       "      <td>1</td>\n",
       "    </tr>\n",
       "    <tr>\n",
       "      <th>4</th>\n",
       "      <td>5</td>\n",
       "      <td>Huntington Beach</td>\n",
       "      <td>CA</td>\n",
       "      <td>69.74</td>\n",
       "      <td>6</td>\n",
       "      <td>46</td>\n",
       "      <td>28</td>\n",
       "    </tr>\n",
       "  </tbody>\n",
       "</table>\n",
       "</div>"
      ],
      "text/plain": [
       "   Overall Rank              City State  Total Score  \\\n",
       "0             1             Plano    TX        72.30   \n",
       "1             2            Irvine    CA        71.86   \n",
       "2             3           Madison    WI        71.81   \n",
       "3             4           Fremont    CA        71.17   \n",
       "4             5  Huntington Beach    CA        69.74   \n",
       "\n",
       "   Emotional & Physical Well-Being  Income & Employment   \\\n",
       "0                                7                     6   \n",
       "1                               14                    11   \n",
       "2                                3                    14   \n",
       "3                               10                    37   \n",
       "4                                6                    46   \n",
       "\n",
       "   Community & Environment  \n",
       "0                        8  \n",
       "1                        5  \n",
       "2                        7  \n",
       "3                        1  \n",
       "4                       28  "
      ]
     },
     "execution_count": 3,
     "metadata": {},
     "output_type": "execute_result"
    }
   ],
   "source": [
    "happy_cities.head()"
   ]
  },
  {
   "cell_type": "code",
   "execution_count": 4,
   "metadata": {},
   "outputs": [
    {
     "data": {
      "text/html": [
       "<div>\n",
       "<style scoped>\n",
       "    .dataframe tbody tr th:only-of-type {\n",
       "        vertical-align: middle;\n",
       "    }\n",
       "\n",
       "    .dataframe tbody tr th {\n",
       "        vertical-align: top;\n",
       "    }\n",
       "\n",
       "    .dataframe thead th {\n",
       "        text-align: right;\n",
       "    }\n",
       "</style>\n",
       "<table border=\"1\" class=\"dataframe\">\n",
       "  <thead>\n",
       "    <tr style=\"text-align: right;\">\n",
       "      <th></th>\n",
       "      <th>City</th>\n",
       "      <th>State</th>\n",
       "      <th>Category</th>\n",
       "      <th>Rating</th>\n",
       "      <th>Review Count</th>\n",
       "      <th>Name</th>\n",
       "      <th>Price</th>\n",
       "    </tr>\n",
       "  </thead>\n",
       "  <tbody>\n",
       "  </tbody>\n",
       "</table>\n",
       "</div>"
      ],
      "text/plain": [
       "Empty DataFrame\n",
       "Columns: [City, State, Category, Rating, Review Count, Name, Price]\n",
       "Index: []"
      ]
     },
     "execution_count": 4,
     "metadata": {},
     "output_type": "execute_result"
    }
   ],
   "source": [
    "#Create a data frame that will store the bar information from \n",
    "happy_bars = pd.DataFrame({'City' : []})\n",
    "happy_bars[\"State\"] = \"\"\n",
    "happy_bars[\"Category\"] = \"\"\n",
    "#happy_bars = cities_df.rename(columns={0 : \"City\"})\n",
    "happy_bars[\"Rating\"] = \"\"\n",
    "happy_bars[\"Review Count\"] = \"\"\n",
    "happy_bars[\"Name\"] = \"\"\n",
    "happy_bars[\"Price\"] = \"\"\n",
    "\n",
    "happy_bars.head()"
   ]
  },
  {
   "cell_type": "code",
   "execution_count": 8,
   "metadata": {},
   "outputs": [
    {
     "name": "stdout",
     "output_type": "stream",
     "text": [
      "https://api.yelp.com/v3/businesses/search?limit=50&location=New York City&categories=cannabiscollective, cannabisdispensaries&radius=13220\n",
      "{\n",
      "  \"businesses\": [],\n",
      "  \"region\": {\n",
      "    \"center\": {\n",
      "      \"latitude\": 40.70544486444615,\n",
      "      \"longitude\": -73.99429321289062\n",
      "    }\n",
      "  },\n",
      "  \"total\": 0\n",
      "}\n"
     ]
    }
   ],
   "source": [
    "# Set up URL for test\n",
    "city = 'New York City'\n",
    "categories = \"cannabiscollective, cannabisdispensaries\"\n",
    "header = {'Authorization':f'Bearer {api_key}'}\n",
    "radius = '13220'\n",
    "url = f'https://api.yelp.com/v3/businesses/search?limit=50&location={city}&categories={categories}&radius={radius}'\n",
    "\n",
    "print(url)\n",
    "\n",
    "# Make test request and show results\n",
    "response = requests.get(url, headers = header).json()\n",
    "\n",
    "print(json.dumps(response, indent=2, sort_keys=True))\n"
   ]
  },
  {
   "cell_type": "code",
   "execution_count": 20,
   "metadata": {},
   "outputs": [
    {
     "ename": "IndexError",
     "evalue": "list index out of range",
     "output_type": "error",
     "traceback": [
      "\u001b[1;31m---------------------------------------------------------------------------\u001b[0m",
      "\u001b[1;31mIndexError\u001b[0m                                Traceback (most recent call last)",
      "\u001b[1;32m<ipython-input-20-0cea8291d6c2>\u001b[0m in \u001b[0;36m<module>\u001b[1;34m\u001b[0m\n\u001b[0;32m     17\u001b[0m             data = {\n\u001b[0;32m     18\u001b[0m \u001b[1;33m\u001b[0m\u001b[0m\n\u001b[1;32m---> 19\u001b[1;33m                \u001b[1;34m'Name'\u001b[0m\u001b[1;33m:\u001b[0m\u001b[0mresponse\u001b[0m\u001b[1;33m[\u001b[0m\u001b[1;34m'businesses'\u001b[0m\u001b[1;33m]\u001b[0m\u001b[1;33m[\u001b[0m\u001b[0mi\u001b[0m\u001b[1;33m]\u001b[0m\u001b[1;33m[\u001b[0m\u001b[1;34m'name'\u001b[0m\u001b[1;33m]\u001b[0m\u001b[1;33m,\u001b[0m\u001b[1;33m\u001b[0m\u001b[1;33m\u001b[0m\u001b[0m\n\u001b[0m\u001b[0;32m     20\u001b[0m                \u001b[1;34m'Price'\u001b[0m\u001b[1;33m:\u001b[0m\u001b[0mresponse\u001b[0m\u001b[1;33m[\u001b[0m\u001b[1;34m'businesses'\u001b[0m\u001b[1;33m]\u001b[0m\u001b[1;33m[\u001b[0m\u001b[0mi\u001b[0m\u001b[1;33m]\u001b[0m\u001b[1;33m[\u001b[0m\u001b[1;34m'price'\u001b[0m\u001b[1;33m]\u001b[0m\u001b[1;33m,\u001b[0m\u001b[1;33m\u001b[0m\u001b[1;33m\u001b[0m\u001b[0m\n\u001b[0;32m     21\u001b[0m                \u001b[1;34m'Rating'\u001b[0m\u001b[1;33m:\u001b[0m\u001b[0mresponse\u001b[0m\u001b[1;33m[\u001b[0m\u001b[1;34m'businesses'\u001b[0m\u001b[1;33m]\u001b[0m\u001b[1;33m[\u001b[0m\u001b[0mi\u001b[0m\u001b[1;33m]\u001b[0m\u001b[1;33m[\u001b[0m\u001b[1;34m'rating'\u001b[0m\u001b[1;33m]\u001b[0m\u001b[1;33m,\u001b[0m\u001b[1;33m\u001b[0m\u001b[1;33m\u001b[0m\u001b[0m\n",
      "\u001b[1;31mIndexError\u001b[0m: list index out of range"
     ]
    }
   ],
   "source": [
    "bar_data = []\n",
    "\n",
    "for index, row in happy_cities.iterrows():\n",
    "    city = row[\"City\"]\n",
    "\n",
    "    categories = \"cannabiscollective, cannabisdispensaries\"\n",
    "    header = {'Authorization':f'Bearer {api_key}'}\n",
    "    radius = '3220'\n",
    "    \n",
    "    query_url = f'https://api.yelp.com/v3/businesses/search?limit=50&location={city}&categories={categories}&radius={radius}'\n",
    "    bar_response = requests.get(query_url, headers = header)\n",
    "    bar_json = bar_response.json()\n",
    "    \n",
    "    for i in range(len(bar_json['businesses'])):\n",
    "        try:\n",
    "            \n",
    "            data = {\n",
    "               \n",
    "               'Name':response['businesses'][i]['name'],\n",
    "               'Price':response['businesses'][i]['price'],\n",
    "               'Rating':response['businesses'][i]['rating'],\n",
    "               'Review Count':response['businesses'][i]['review_count'],\n",
    "               'Out of Business':response['businesses'][i]['is_closed'],\n",
    "               'Location':response['businesses'][i]['location']['city']\n",
    "                             \n",
    "                        }\n",
    "            \n",
    "            # Add category data to dict\n",
    "            #for j in range(len(response['businesses'][i]['categories'])):\n",
    "             #   data[f'Category {j}'] = response['businesses'][i]['categories'][j]['title']\n",
    "                    \n",
    "              # Add data to list\n",
    "            bar_data.append(data)\n",
    "        except KeyError:\n",
    "            print('KeyError: skipping')\n",
    "weed_df = pd.DataFrame(bar_data)"
   ]
  },
  {
   "cell_type": "code",
   "execution_count": null,
   "metadata": {},
   "outputs": [],
   "source": [
    "weed_df.head()"
   ]
  },
  {
   "cell_type": "code",
   "execution_count": null,
   "metadata": {},
   "outputs": [],
   "source": [
    "weed_df.to_csv(\"weed_data.csv\", encoding=\"utf-8\", index=False)\n",
    "weed_df.head()"
   ]
  },
  {
   "cell_type": "code",
   "execution_count": null,
   "metadata": {},
   "outputs": [],
   "source": []
  },
  {
   "cell_type": "code",
   "execution_count": null,
   "metadata": {},
   "outputs": [],
   "source": [
    "bar_data = []\n",
    "\n",
    "for index, row in happy_cities.iterrows():\n",
    "    city = row[\"City\"]\n",
    "\n",
    "    categories = \"bars\"\n",
    "    header = {'Authorization':f'Bearer {api_key}'}\n",
    "    radius = '3220'\n",
    "    \n",
    "    query_url = f'https://api.yelp.com/v3/businesses/search?limit=50&location={city}&categories={categories}&radius={radius}'\n",
    "    bar_response = requests.get(query_url, headers = header)\n",
    "    bar_json = bar_response.json()\n",
    "    \n",
    "    for i in range(len(bar_response['businesses'])):\n",
    "        try:\n",
    "            \n",
    "            happy_bars.loc[index, \"State\"]  = bar_json['businesses'][i]['name']\n",
    "            "
   ]
  },
  {
   "cell_type": "code",
   "execution_count": null,
   "metadata": {},
   "outputs": [],
   "source": []
  },
  {
   "cell_type": "code",
   "execution_count": null,
   "metadata": {},
   "outputs": [],
   "source": []
  },
  {
   "cell_type": "code",
   "execution_count": null,
   "metadata": {},
   "outputs": [],
   "source": []
  },
  {
   "cell_type": "code",
   "execution_count": null,
   "metadata": {},
   "outputs": [],
   "source": []
  },
  {
   "cell_type": "code",
   "execution_count": null,
   "metadata": {},
   "outputs": [],
   "source": []
  },
  {
   "cell_type": "code",
   "execution_count": null,
   "metadata": {},
   "outputs": [],
   "source": [
    "# Loop through happy cities calling for data from Yelp\n",
    "#https://www.yelp.com/developers/documentation/v3/business_search\n",
    "for place in cities_df['City, State']:\n",
    "   # Set up URL for calls\n",
    "   url = baseurl + f'location={place}'\n",
    "\n",
    "   # Make request and store results\n",
    "   response = requests.get(url, headers = header).json()\n",
    "   print(place)\n",
    "   print(len(response['businesses']))\n",
    "   print(response['total'])\n",
    "\n",
    "   # Loop through business in response\n",
    "   for i in range(len(response['businesses'])):\n",
    "\n",
    "       try:\n",
    "           # Put relevant data into a dict\n",
    "           data = {\n",
    "               'Latitude':response['businesses'][i]['coordinates']['latitude'],\n",
    "               'Longitude':response['businesses'][i]['coordinates']['longitude'],\n",
    "               'Name':response['businesses'][i]['name'],\n",
    "               'Price':response['businesses'][i]['price'],\n",
    "               'Rating':response['businesses'][i]['rating'],\n",
    "               'Review Count':response['businesses'][i]['review_count'],\n",
    "               'Out of Business':response['businesses'][i]['is_closed'],\n",
    "               'Location':place,\n",
    "               'Category':response['businesses'][i]['categories'][]['alias']\n",
    "           }\n",
    "\n",
    "           # Add data to list\n",
    "           yelpdata.append(data)\n",
    "       except KeyError:\n",
    "           print('KeyError: skipping')"
   ]
  }
 ],
 "metadata": {
  "kernelspec": {
   "display_name": "Python (PythinData)",
   "language": "python",
   "name": "pythondata"
  },
  "language_info": {
   "codemirror_mode": {
    "name": "ipython",
    "version": 3
   },
   "file_extension": ".py",
   "mimetype": "text/x-python",
   "name": "python",
   "nbconvert_exporter": "python",
   "pygments_lexer": "ipython3",
   "version": "3.7.1"
  }
 },
 "nbformat": 4,
 "nbformat_minor": 2
}
