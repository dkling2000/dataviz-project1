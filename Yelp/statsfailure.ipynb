{
 "cells": [
  {
   "cell_type": "code",
   "execution_count": null,
   "metadata": {},
   "outputs": [],
   "source": [
    "# Create data frame where each column contains the ratings of each restaurant for a given city\n",
    "rate_df = restaurant_df[['Location','Rating']].groupby('Location')['Rating'].apply(list).reset_index()\n",
    "stats_df = rate_df['Rating'].apply(pd.Series)\n",
    "stats_df['Location'] = rate_df['Location']\n",
    "stats_df = stats_df.set_index('Location').T\n",
    "stats_df.head()"
   ]
  },
  {
   "cell_type": "code",
   "execution_count": null,
   "metadata": {},
   "outputs": [],
   "source": [
    "stats.f_oneway([stats_df[colname] for colname in stats_df.columns])"
   ]
  },
  {
   "cell_type": "code",
   "execution_count": null,
   "metadata": {},
   "outputs": [],
   "source": [
    "stats.f_oneway([rate_df.iloc[x]['Rating'] for x in range(len(rate_df['Rating']))])"
   ]
  },
  {
   "cell_type": "code",
   "execution_count": null,
   "metadata": {},
   "outputs": [],
   "source": [
    "stats.f_oneway(rate_df.iloc[1]['Rating'],rate_df.iloc[2]['Rating'],rate_df.iloc[3]['Rating'],rate_df.iloc[4]['Rating'])"
   ]
  },
  {
   "cell_type": "code",
   "execution_count": null,
   "metadata": {},
   "outputs": [],
   "source": [
    "# Create a list of columns to loop through for statistical analysis\n",
    "statistics = ['Rating','Converted Price','Review Count']\n",
    "\n",
    "\n",
    "\n",
    "# Loop through list running ANOVA test on each column\n",
    "for statistic in statistics:\n",
    "    # Store the statement for accepting the null hypothesis\n",
    "    acceptnull = f'''\n",
    "        Results of {statistic} ANOVA\n",
    "        ----------------------------------------------------------------------------------------------------\n",
    "        Since the pval ({pval}) was greater than 0.05, we accept the null hypothesis \n",
    "        that there is not significant difference in restaurant {statistic} between happy and unhappy cities.\n",
    "        ----------------------------------------------------------------------------------------------------\n",
    "    '''\n",
    "\n",
    "    # Store the statement for rejecting the null hypothesis\n",
    "    rejectnull = f'''\n",
    "        Results of {statistic} ANOVA\n",
    "        ----------------------------------------------------------------------------------------------------\n",
    "        Since the pval ({pval}) was less than than 0.05, we accept the hypothesis \n",
    "        that there is a significant difference in restaurant {statistic} between happy and unhappy cities.\n",
    "        ----------------------------------------------------------------------------------------------------\n",
    "    '''\n",
    "    \n",
    "    \n",
    "    # Create data frame where each column contains the ratings of each restaurant for a given city\n",
    "    df = restaurant_df[['Location',statistic]].groupby('Location')[statistic].apply(list).reset_index()\n",
    "    stats_df = df[statistic].apply(pd.Series)\n",
    "    stats_df['Location'] = df['Location']\n",
    "    stats_df = stats_df.set_index('Location').T\n",
    "    \n",
    "    # Grab the five happiest and five least happy cities and store their ratings in variables\n",
    "    plano = stats_df['Plano, TX'].dropna()\n",
    "    irvine = stats_df['Irvine, CA'].dropna()\n",
    "    madison = stats_df['Madison, WI'].dropna()\n",
    "    fremont = stats_df['Fremont, CA'].dropna()\n",
    "    huntington = stats_df['Huntington Beach, CA'].dropna()\n",
    "    cleveland = stats_df['Cleveland, OH'].dropna()\n",
    "    birmingham = stats_df['Birmingham, AL'].dropna()\n",
    "    charleston = stats_df['Charleston, WV'].dropna()\n",
    "    toledo = stats_df['Toledo, OH'].dropna()\n",
    "    detroit = stats_df['Detroit, MI'].dropna()\n",
    "        \n",
    "    # Use an ANOVA test to determine the statistical significance of our observations\n",
    "    fval, pval = stats.f_oneway(plano, irvine, madison, fremont, huntington, cleveland, birmingham, charleston, toledo, detroit)\n",
    "    \n",
    "    # Conditionally print the results of our testing and save to text file\n",
    "    if pval > 0.05:\n",
    "        print(acceptnull)\n",
    "        file.write(acceptnull)\n",
    "    else:\n",
    "        print(rejectnull)\n",
    "        file.write(rejectnull)\n",
    "        \n"
   ]
  },
  {
   "cell_type": "code",
   "execution_count": null,
   "metadata": {},
   "outputs": [],
   "source": [
    "# Create box and whisker plots to go along with the ANOVA tests\n",
    "for plot in statistics:\n",
    "    restaurant_df.loc[(restaurant_df['Location'] == 'Plano, TX')|(restaurant_df['Location'] == 'Irvine, CA')|(restaurant_df['Location'] == 'Madison, WI')|(restaurant_df['Location'] == 'Fremont, CA')|(restaurant_df['Location'] == 'Huntington Beach, CA')|(restaurant_df['Location'] == 'Cleveland, OH')|(restaurant_df['Location'] == 'Birmingham, AL')|(restaurant_df['Location'] == 'Charleston, WV')|(restaurant_df['Location'] == 'Toledo, OH')|(restaurant_df['Location'] == 'Detroit, MI')].boxplot(plot, by=\"Location\", figsize=(10,5))\n",
    "    plt.xticks(rotation=45)\n",
    "    plt.ylabel(plot)\n",
    "    plt.title(f'of the Five Happiest and Five Least Happy Cities by {plot}')\n",
    "    \n",
    "    # Save figure as .png\n",
    "    save_fig = os.path.join('Output',f'{plot}boxplot.png')\n",
    "    plt.savefig(save_fig)"
   ]
  }
 ],
 "metadata": {
  "kernelspec": {
   "display_name": "Python (PythonData)",
   "language": "python",
   "name": "pythondata"
  },
  "language_info": {
   "codemirror_mode": {
    "name": "ipython",
    "version": 3
   },
   "file_extension": ".py",
   "mimetype": "text/x-python",
   "name": "python",
   "nbconvert_exporter": "python",
   "pygments_lexer": "ipython3",
   "version": "3.7.1"
  }
 },
 "nbformat": 4,
 "nbformat_minor": 2
}
